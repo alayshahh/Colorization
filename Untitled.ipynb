{
 "cells": [
  {
   "cell_type": "code",
   "execution_count": 34,
   "id": "undefined-blanket",
   "metadata": {},
   "outputs": [],
   "source": [
    "import os\n",
    "import sys\n",
    "sys.path.append(os.path.dirname(os.path.abspath('src'))+'/src')\n",
    "import matplotlib.pyplot as plt\n",
    "import numpy as np"
   ]
  },
  {
   "cell_type": "code",
   "execution_count": 44,
   "id": "smooth-vacation",
   "metadata": {},
   "outputs": [],
   "source": [
    "training = np.load('./assets/improved_agent/red_training_loss.npy')"
   ]
  },
  {
   "cell_type": "code",
   "execution_count": 45,
   "id": "potential-hawaii",
   "metadata": {},
   "outputs": [
    {
     "data": {
      "text/plain": [
       "array([5750.66361809, 9050.99684107, 9095.39040985, ..., 4991.81758157,\n",
       "       4992.38520275, 4992.58315078])"
      ]
     },
     "execution_count": 45,
     "metadata": {},
     "output_type": "execute_result"
    }
   ],
   "source": [
    "training"
   ]
  },
  {
   "cell_type": "code",
   "execution_count": 46,
   "id": "assigned-medicaid",
   "metadata": {},
   "outputs": [],
   "source": [
    "testing = np.load('./assets/improved_agent/red_testing_loss.npy')"
   ]
  },
  {
   "cell_type": "code",
   "execution_count": 47,
   "id": "female-complexity",
   "metadata": {},
   "outputs": [
    {
     "data": {
      "text/plain": [
       "array([5662.29902169, 9574.97803569, 8765.47906185, ..., 4783.20666503,\n",
       "       4783.52655995, 4783.64370906])"
      ]
     },
     "execution_count": 47,
     "metadata": {},
     "output_type": "execute_result"
    }
   ],
   "source": [
    "testing\n"
   ]
  },
  {
   "cell_type": "code",
   "execution_count": 48,
   "id": "severe-indicator",
   "metadata": {},
   "outputs": [
    {
     "data": {
      "image/png": "[encoded data removed]",
      "text/plain": [
       "<Figure size 432x288 with 1 Axes>"
      ]
     },
     "metadata": {
      "needs_background": "light"
     },
     "output_type": "display_data"
    }
   ],
   "source": [
    "plt.plot(training, label=\"Training\")\n",
    "plt.plot(testing,label=\"Testing\")\n",
    "plt.xlabel('Iterations')\n",
    "plt.ylabel('Loss')\n",
    "plt.title('Finding the best w and alpha values (alpha = 1)')\n",
    "plt.legend()\n",
    "plt.show()"
   ]
  },
  {
   "cell_type": "code",
   "execution_count": 40,
   "id": "massive-anniversary",
   "metadata": {},
   "outputs": [
    {
     "data": {
      "text/plain": [
       "1000"
      ]
     },
     "execution_count": 40,
     "metadata": {},
     "output_type": "execute_result"
    }
   ],
   "source": [
    "min_index = 0\n",
    "min_val = 1000000\n",
    "for i, val in enumerate(testing):\n",
    "  if min_val> val:\n",
    "    min_index = i\n",
    "    min_val = val\n",
    "min_index\n"
   ]
  },
  {
   "cell_type": "code",
   "execution_count": 41,
   "id": "exposed-strengthening",
   "metadata": {},
   "outputs": [],
   "source": [
    "weights = np.load('./assets/improved_agent/red_weights.npy')"
   ]
  },
  {
   "cell_type": "code",
   "execution_count": 42,
   "id": "operating-opening",
   "metadata": {},
   "outputs": [
    {
     "data": {
      "text/plain": [
       "(1001, 10)"
      ]
     },
     "execution_count": 42,
     "metadata": {},
     "output_type": "execute_result"
    }
   ],
   "source": [
    "weights.shape"
   ]
  },
  {
   "cell_type": "code",
   "execution_count": 43,
   "id": "beautiful-stand",
   "metadata": {},
   "outputs": [
    {
     "data": {
      "text/plain": [
       "(1001,)"
      ]
     },
     "execution_count": 43,
     "metadata": {},
     "output_type": "execute_result"
    }
   ],
   "source": [
    "training.shape"
   ]
  },
  {
   "cell_type": "code",
   "execution_count": null,
   "id": "polar-passage",
   "metadata": {},
   "outputs": [],
   "source": []
  }
 ],
 "metadata": {
  "kernelspec": {
   "display_name": "Python 3",
   "language": "python",
   "name": "python3"
  },
  "language_info": {
   "codemirror_mode": {
    "name": "ipython",
    "version": 3
   },
   "file_extension": ".py",
   "mimetype": "text/x-python",
   "name": "python",
   "nbconvert_exporter": "python",
   "pygments_lexer": "ipython3",
   "version": "3.7.3"
  }
 },
 "nbformat": 4,
 "nbformat_minor": 5
}
